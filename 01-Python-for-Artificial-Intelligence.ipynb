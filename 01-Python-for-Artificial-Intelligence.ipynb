{
 "cells": [
  {
   "cell_type": "code",
   "execution_count": null,
   "metadata": {},
   "outputs": [],
   "source": [
    "# Versão da Linguagem Python\n",
    "from platform import python_version\n",
    "print('Versão de Python Neste Jupyter Notebook:', python_version())\n",
    "\n",
    "# usaremos o filtro 'waning' para deixar mais limpo.\n",
    "import warnings\n",
    "warnings.filterwarnings('ignore')"
   ]
  },
  {
   "attachments": {},
   "cell_type": "markdown",
   "metadata": {},
   "source": [
    "### Features of Python"
   ]
  },
  {
   "cell_type": "code",
   "execution_count": null,
   "metadata": {},
   "outputs": [],
   "source": [
    "[e*e for e in range(20) if e%2==0]"
   ]
  },
  {
   "cell_type": "code",
   "execution_count": null,
   "metadata": {},
   "outputs": [],
   "source": [
    "a = (e*e for e in range(20) if e%2==0)"
   ]
  },
  {
   "cell_type": "code",
   "execution_count": null,
   "metadata": {},
   "outputs": [],
   "source": [
    "next(a)"
   ]
  },
  {
   "cell_type": "code",
   "execution_count": null,
   "metadata": {},
   "outputs": [],
   "source": [
    "next(a)"
   ]
  },
  {
   "cell_type": "code",
   "execution_count": null,
   "metadata": {},
   "outputs": [],
   "source": [
    "next(a)"
   ]
  },
  {
   "cell_type": "code",
   "execution_count": null,
   "metadata": {},
   "outputs": [],
   "source": [
    "list(a)"
   ]
  },
  {
   "cell_type": "code",
   "execution_count": null,
   "metadata": {},
   "outputs": [],
   "source": [
    "next(a)"
   ]
  },
  {
   "cell_type": "code",
   "execution_count": null,
   "metadata": {},
   "outputs": [],
   "source": [
    "a = [\"a\", \"f\", \"bar\", \"b\", \"a\", \"aaaaa\"]\n",
    "ind = {a[i]:i for i in range(len(a))}\n",
    "ind"
   ]
  },
  {
   "cell_type": "code",
   "execution_count": null,
   "metadata": {},
   "outputs": [],
   "source": [
    "ind['b']"
   ]
  },
  {
   "cell_type": "code",
   "execution_count": null,
   "metadata": {},
   "outputs": [],
   "source": [
    "ind = {val:i for (i,val) in enumerate(a)}"
   ]
  },
  {
   "cell_type": "code",
   "execution_count": null,
   "metadata": {},
   "outputs": [],
   "source": [
    "fun_list1 = []\n",
    "\n",
    "for i in range(5):\n",
    "\n",
    "    def fun1(e):\n",
    "        \n",
    "        return e+i\n",
    "    \n",
    "    fun_list1.append(fun1)\n",
    "\n",
    "fun_list2 = []\n",
    "\n",
    "for i in range(5):\n",
    "\n",
    "    def fun2(e,iv=i):\n",
    "         \n",
    "        return e+iv\n",
    "    \n",
    "    fun_list2.append(fun2)\n",
    "\n",
    "fun_list3 = [lambda e: e+i for i in range(5)]\n",
    "fun_list4 = [lambda e,iv=i: e+iv for i in range(5)]\n",
    "\n",
    "i=56"
   ]
  },
  {
   "cell_type": "code",
   "execution_count": 3,
   "metadata": {},
   "outputs": [
    {
     "name": "stdout",
     "output_type": "stream",
     "text": [
      "[66, 66, 66, 66, 66]\n",
      "[10, 11, 12, 13, 14]\n",
      "[14, 14, 14, 14, 14]\n",
      "[10, 11, 12, 13, 14]\n"
     ]
    }
   ],
   "source": [
    "from scripts.pythonDemo import *\n",
    "\n",
    "print([f(10) for f in fun_list1])\n",
    "print([f(10) for f in fun_list2])\n",
    "print([f(10) for f in fun_list3])\n",
    "print([f(10) for f in fun_list4])"
   ]
  },
  {
   "cell_type": "code",
   "execution_count": null,
   "metadata": {},
   "outputs": [],
   "source": [
    "def myrange(start, stop, step=1):\n",
    "    \"\"\"enumerates the values from start in steps of size step that are\n",
    "    less than stop. \n",
    "    \"\"\"\n",
    "\n",
    "    assert step>0, \"only positive steps implemented in myrange\"\n",
    "    i = start\n",
    "    \n",
    "    while i<stop:\n",
    "        yield i\n",
    "        i += step\n",
    "\n",
    "print(\"list(myrange(2,30,3)):\",list(myrange(2,30,3)))"
   ]
  },
  {
   "cell_type": "code",
   "execution_count": null,
   "metadata": {},
   "outputs": [],
   "source": [
    "def ga(n):\n",
    "    \"\"\"generates square of even nonnegative integers less than n\"\"\"\n",
    "\n",
    "    for e in range(n):\n",
    "        if e%2==0:\n",
    "            yield e*e\n",
    "    \n",
    "a = ga(20)\n",
    "\n",
    "def myenumerate(enum):\n",
    "    for i in range(len(enum)):\n",
    "        yield i,enum[i]"
   ]
  },
  {
   "attachments": {},
   "cell_type": "markdown",
   "metadata": {},
   "source": [
    "### Useful Libraries"
   ]
  },
  {
   "cell_type": "code",
   "execution_count": null,
   "metadata": {},
   "outputs": [],
   "source": [
    "import time\n",
    "\n",
    "start_time = time.perf_counter()\n",
    "\n",
    "end_time = time.perf_counter()\n",
    "print(\"Time:\", end_time - start_time, \"seconds\")"
   ]
  },
  {
   "cell_type": "code",
   "execution_count": null,
   "metadata": {},
   "outputs": [],
   "source": [
    "start_time = time.perf_counter(); end_time = time.perf_counter()"
   ]
  },
  {
   "cell_type": "code",
   "execution_count": null,
   "metadata": {},
   "outputs": [],
   "source": [
    "import timeit\n",
    "\n",
    "time = timeit.timeit(\"foo.bar(aaa)\",\n",
    "                     setup = \"from __main__ import foo,aaa\", \n",
    "                     number = 100)"
   ]
  },
  {
   "cell_type": "code",
   "execution_count": null,
   "metadata": {},
   "outputs": [],
   "source": [
    "import matplotlib.pyplot as plt\n",
    "\n",
    "def myplot(minv,maxv,step,fun1,fun2):\n",
    "    plt.ion() # make it interactive\n",
    "    \n",
    "    plt.xlabel(\"The x axis\")\n",
    "    plt.ylabel(\"The y axis\")\n",
    "    \n",
    "    plt.xscale('linear') # Makes a 'log' or 'linear' scale\n",
    "    \n",
    "    xvalues = range(minv,maxv,step)\n",
    "    \n",
    "    plt.plot(xvalues,\n",
    "             [fun1(x) for x in xvalues],\n",
    "             label = \"The first fun\")\n",
    "    \n",
    "    plt.plot(xvalues,\n",
    "             [fun2(x) for x in xvalues], \n",
    "             linestyle = '--',\n",
    "             color = 'k',\n",
    "             label = fun2.__doc__) # use the doc string of the function\n",
    "    \n",
    "    plt.legend(loc = \"upper right\") # display the legend\n",
    "\n",
    "def slin(x):\n",
    "    \"\"\"y=2x+7\"\"\"\n",
    "    \n",
    "    return 2*x+7\n",
    "\n",
    "def sqfun(x):\n",
    "    \"\"\"y=(x-40)ˆ2/10-20\"\"\"\n",
    "    \n",
    "    return (x-40)**2/10-20"
   ]
  },
  {
   "cell_type": "code",
   "execution_count": 1,
   "metadata": {},
   "outputs": [
    {
     "name": "stdout",
     "output_type": "stream",
     "text": [
      "list(myrange(2,30,3)): [2, 5, 8, 11, 14, 17, 20, 23, 26, 29]\n"
     ]
    },
    {
     "data": {
      "image/png": "[encoded data removed]",
      "text/plain": [
       "<Figure size 432x288 with 1 Axes>"
      ]
     },
     "metadata": {
      "needs_background": "light"
     },
     "output_type": "display_data"
    }
   ],
   "source": [
    "from scripts.pythonDemo import myplot, slin, sqfun\n",
    "import matplotlib.pyplot as plt\n",
    "import math\n",
    "\n",
    "myplot(0,100,1,slin,sqfun)\n",
    "plt.legend(loc=\"best\")\n",
    "plt.plot([41+40*math.cos(th/10) for th in range(50)],\n",
    "         [100+100*math.sin(th/10) for th in range(50)])\n",
    "\n",
    "plt.text(40,100,\"ellipse?\")\n",
    "plt.xscale('log')"
   ]
  },
  {
   "attachments": {},
   "cell_type": "markdown",
   "metadata": {},
   "source": [
    "### Utilities"
   ]
  },
  {
   "cell_type": "code",
   "execution_count": null,
   "metadata": {},
   "outputs": [],
   "source": [
    "class Displayable(object):\n",
    "    \"\"\"Class that uses 'display'.\n",
    "    The amount of detail is controlled by max_display_level\n",
    "    \"\"\"\n",
    "\n",
    "    max_display_level = 1 # can be overridden in subclasses\n",
    "\n",
    "    def display(self,level,*args,**nargs):\n",
    "        \"\"\"print the arguments if level is less than or equal to the\n",
    "        current max_display_level.\n",
    "        level is an integer.\n",
    "        the other arguments are whatever arguments print can take.\n",
    "        \"\"\"\n",
    "\n",
    "        if level <= self.max_display_level:\n",
    "            print(*args, **nargs) ##if error you are using Python2 not Python3"
   ]
  },
  {
   "cell_type": "code",
   "execution_count": null,
   "metadata": {},
   "outputs": [],
   "source": []
  },
  {
   "cell_type": "code",
   "execution_count": null,
   "metadata": {},
   "outputs": [],
   "source": []
  },
  {
   "cell_type": "code",
   "execution_count": null,
   "metadata": {},
   "outputs": [],
   "source": []
  },
  {
   "cell_type": "code",
   "execution_count": null,
   "metadata": {},
   "outputs": [],
   "source": []
  },
  {
   "cell_type": "code",
   "execution_count": null,
   "metadata": {},
   "outputs": [],
   "source": []
  },
  {
   "cell_type": "code",
   "execution_count": null,
   "metadata": {},
   "outputs": [],
   "source": []
  },
  {
   "cell_type": "code",
   "execution_count": null,
   "metadata": {},
   "outputs": [],
   "source": []
  },
  {
   "cell_type": "code",
   "execution_count": null,
   "metadata": {},
   "outputs": [],
   "source": []
  },
  {
   "cell_type": "code",
   "execution_count": null,
   "metadata": {},
   "outputs": [],
   "source": []
  },
  {
   "cell_type": "code",
   "execution_count": null,
   "metadata": {},
   "outputs": [],
   "source": []
  },
  {
   "cell_type": "code",
   "execution_count": null,
   "metadata": {},
   "outputs": [],
   "source": []
  },
  {
   "cell_type": "code",
   "execution_count": null,
   "metadata": {},
   "outputs": [],
   "source": []
  },
  {
   "cell_type": "code",
   "execution_count": null,
   "metadata": {},
   "outputs": [],
   "source": []
  },
  {
   "cell_type": "code",
   "execution_count": null,
   "metadata": {},
   "outputs": [],
   "source": []
  },
  {
   "cell_type": "code",
   "execution_count": null,
   "metadata": {},
   "outputs": [],
   "source": []
  },
  {
   "cell_type": "code",
   "execution_count": null,
   "metadata": {},
   "outputs": [],
   "source": []
  },
  {
   "cell_type": "code",
   "execution_count": null,
   "metadata": {},
   "outputs": [],
   "source": []
  },
  {
   "cell_type": "code",
   "execution_count": null,
   "metadata": {},
   "outputs": [],
   "source": []
  },
  {
   "cell_type": "code",
   "execution_count": null,
   "metadata": {},
   "outputs": [],
   "source": []
  },
  {
   "cell_type": "code",
   "execution_count": null,
   "metadata": {},
   "outputs": [],
   "source": []
  },
  {
   "cell_type": "code",
   "execution_count": null,
   "metadata": {},
   "outputs": [],
   "source": []
  },
  {
   "cell_type": "code",
   "execution_count": null,
   "metadata": {},
   "outputs": [],
   "source": []
  },
  {
   "cell_type": "code",
   "execution_count": null,
   "metadata": {},
   "outputs": [],
   "source": []
  },
  {
   "cell_type": "code",
   "execution_count": null,
   "metadata": {},
   "outputs": [],
   "source": []
  },
  {
   "cell_type": "code",
   "execution_count": null,
   "metadata": {},
   "outputs": [],
   "source": []
  },
  {
   "cell_type": "code",
   "execution_count": null,
   "metadata": {},
   "outputs": [],
   "source": []
  },
  {
   "cell_type": "code",
   "execution_count": null,
   "metadata": {},
   "outputs": [],
   "source": []
  },
  {
   "cell_type": "code",
   "execution_count": null,
   "metadata": {},
   "outputs": [],
   "source": []
  },
  {
   "cell_type": "code",
   "execution_count": null,
   "metadata": {},
   "outputs": [],
   "source": []
  },
  {
   "cell_type": "code",
   "execution_count": null,
   "metadata": {},
   "outputs": [],
   "source": []
  },
  {
   "cell_type": "code",
   "execution_count": null,
   "metadata": {},
   "outputs": [],
   "source": [
    "%reload_ext watermark\n",
    "%watermark -a \"Caique Miranda\" -gu \"caiquemiranda\" -iv"
   ]
  },
  {
   "attachments": {},
   "cell_type": "markdown",
   "metadata": {},
   "source": [
    "### End."
   ]
  }
 ],
 "metadata": {
  "kernelspec": {
   "display_name": "Python 3",
   "language": "python",
   "name": "python3"
  },
  "language_info": {
   "codemirror_mode": {
    "name": "ipython",
    "version": 3
   },
   "file_extension": ".py",
   "mimetype": "text/x-python",
   "name": "python",
   "nbconvert_exporter": "python",
   "pygments_lexer": "ipython3",
   "version": "3.10.5"
  },
  "orig_nbformat": 4
 },
 "nbformat": 4,
 "nbformat_minor": 2
}
